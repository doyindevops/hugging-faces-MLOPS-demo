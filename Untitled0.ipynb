{
  "nbformat": 4,
  "nbformat_minor": 0,
  "metadata": {
    "colab": {
      "provenance": [],
      "toc_visible": true,
      "authorship_tag": "ABX9TyNtEGDoiyfKPKtQ3u1rOkUu",
      "include_colab_link": true
    },
    "kernelspec": {
      "name": "python3",
      "display_name": "Python 3"
    },
    "language_info": {
      "name": "python"
    }
  },
  "cells": [
    {
      "cell_type": "markdown",
      "metadata": {
        "id": "view-in-github",
        "colab_type": "text"
      },
      "source": [
        "<a href=\"https://colab.research.google.com/github/doyindevops/hugging-faces-MLOPS-demo/blob/main/Untitled0.ipynb\" target=\"_parent\"><img src=\"https://colab.research.google.com/assets/colab-badge.svg\" alt=\"Open In Colab\"/></a>"
      ]
    },
    {
      "cell_type": "markdown",
      "source": [],
      "metadata": {
        "id": "5uxN5JSpEaTZ"
      }
    },
    {
      "cell_type": "markdown",
      "source": [
        "## Ingest\n",
        "\n"
      ],
      "metadata": {
        "id": "bQ4JWqaIEWa1"
      }
    },
    {
      "cell_type": "code",
      "execution_count": null,
      "metadata": {
        "id": "qKNqWsIWEUgo"
      },
      "outputs": [],
      "source": []
    },
    {
      "cell_type": "markdown",
      "source": [],
      "metadata": {
        "id": "zWz2pcwsFTkw"
      }
    },
    {
      "cell_type": "markdown",
      "source": [
        "## Modeling\n"
      ],
      "metadata": {
        "id": "909U8SrzEl9J"
      }
    },
    {
      "cell_type": "markdown",
      "source": [
        "### Classification A\n",
        "\n"
      ],
      "metadata": {
        "id": "QDRcKSUxF-Zz"
      }
    },
    {
      "cell_type": "markdown",
      "source": [
        "### Classificatio B\n"
      ],
      "metadata": {
        "id": "HD92QMb0GNaO"
      }
    },
    {
      "cell_type": "code",
      "source": [],
      "metadata": {
        "id": "G_v1M0oEFPgs"
      },
      "execution_count": null,
      "outputs": []
    },
    {
      "cell_type": "markdown",
      "source": [
        "## EDA\n"
      ],
      "metadata": {
        "id": "GEmAnQDqEzW0"
      }
    },
    {
      "cell_type": "code",
      "source": [],
      "metadata": {
        "id": "3Fig3L0CFOk1"
      },
      "execution_count": null,
      "outputs": []
    },
    {
      "cell_type": "markdown",
      "source": [
        "##Conclusion\n",
        "\n",
        "\n",
        "\n",
        "\n"
      ],
      "metadata": {
        "id": "HGVnwrkLE4pu"
      }
    },
    {
      "cell_type": "markdown",
      "source": [],
      "metadata": {
        "id": "SzRMZcEcEu00"
      }
    }
  ]
}